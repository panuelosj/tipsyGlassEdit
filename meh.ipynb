{
 "cells": [
  {
   "cell_type": "code",
   "execution_count": 1,
   "metadata": {
    "collapsed": true
   },
   "outputs": [],
   "source": [
    "import numpy as np\n",
    "import scipy.ndimage.filters as spfilt\n",
    "import scipy.signal as spsignal\n",
    "import pynbody\n",
    "import pynbody.plot as pp\n",
    "import pynbody.plot.sph\n",
    "import pynbody.filt as filt\n",
    "import pynbody.units as units\n",
    "import pynbody.analysis.profile as profile\n",
    "import matplotlib.pyplot as plt\n",
    "import sys, os, glob, pickle\n",
    "import random as rand\n",
    "\n",
    "rand.seed()"
   ]
  },
  {
   "cell_type": "code",
   "execution_count": 3,
   "metadata": {
    "collapsed": false
   },
   "outputs": [
    {
     "name": "stdout",
     "output_type": "stream",
     "text": [
      "[[-0.24916935 -0.2029047  -0.05851364]\n",
      " [-0.1988039   0.10033798 -0.47123909]\n",
      " [ 0.48003578 -0.21688175 -0.44995308]\n",
      " ..., \n",
      " [-0.34243774 -0.34070492 -0.16901398]\n",
      " [-0.46474838 -0.14309502  0.44415474]\n",
      " [-0.01501846  0.1952486   0.34966183]]\n",
      "-0.499831199646\n",
      "0.499943733215\n",
      "-0.499779701233\n",
      "0.499405860901\n",
      "-0.499716758728\n",
      "0.499901771545\n"
     ]
    },
    {
     "name": "stderr",
     "output_type": "stream",
     "text": [
      "/home/panueljg/anaconda3/lib/python3.5/site-packages/pynbody/snapshot/tipsy.py:130: RuntimeWarning: No readable param file in the run directory or parent directory: using defaults.\n",
      "  \"No readable param file in the run directory or parent directory: using defaults.\", RuntimeWarning)\n"
     ]
    }
   ],
   "source": [
    "sim = pynbody.snapshot.tipsy.TipsySnap(filename='glass16.std', paramfile='./shocktube.param')\n",
    "print(sim[\"pos\"])\n",
    "print(min(sim[\"x\"]))\n",
    "print(max(sim[\"x\"]))\n",
    "print(min(sim[\"y\"]))\n",
    "print(max(sim[\"y\"]))\n",
    "print(min(sim[\"z\"]))\n",
    "print(max(sim[\"z\"]))"
   ]
  },
  {
   "cell_type": "code",
   "execution_count": null,
   "metadata": {
    "collapsed": true
   },
   "outputs": [],
   "source": []
  }
 ],
 "metadata": {
  "kernelspec": {
   "display_name": "Python 3",
   "language": "python",
   "name": "python3"
  },
  "language_info": {
   "codemirror_mode": {
    "name": "ipython",
    "version": 3
   },
   "file_extension": ".py",
   "mimetype": "text/x-python",
   "name": "python",
   "nbconvert_exporter": "python",
   "pygments_lexer": "ipython3",
   "version": "3.5.1"
  }
 },
 "nbformat": 4,
 "nbformat_minor": 0
}
